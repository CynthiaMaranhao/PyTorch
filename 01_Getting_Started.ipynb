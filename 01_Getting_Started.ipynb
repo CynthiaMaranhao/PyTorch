{
 "cells": [
  {
   "cell_type": "markdown",
   "metadata": {
    "id": "syy2HpSqLu4k"
   },
   "source": [
    "[![Open In Colab](https://colab.research.google.com/assets/colab-badge.svg)](https://github.com/joe-papa/pytorch-book/blob/main/01_Getting_Started.ipynb)"
   ]
  },
  {
   "cell_type": "markdown",
   "metadata": {
    "id": "Y2fkP_np3Zpl"
   },
   "source": [
    "<!--BOOK_INFORMATION-->\n",
    "<img align=\"left\" style=\"width:80px;height:98px;padding-right:20px;\" src=\"https://raw.githubusercontent.com/joe-papa/pytorch-book/main/files/pytorch-book-cover.jpg\">\n",
    "\n",
    "This notebook contains an excerpt from the [PyTorch Pocket Reference](http://pytorchbook.com) book by [Joe Papa](http://joepapa.ai). The content is available [on GitHub](https://github.com/joe-papa/pytorch-book)."
   ]
  },
  {
   "cell_type": "markdown",
   "metadata": {
    "id": "QJQ9DdKM6ism"
   },
   "source": [
    "# Chapter 1 - An Introduction to PyTorch"
   ]
  },
  {
   "cell_type": "markdown",
   "metadata": {
    "id": "Rdy52MBl7E_g"
   },
   "source": [
    "## Verifying Your PyTorch Setup"
   ]
  },
  {
   "cell_type": "code",
   "execution_count": null,
   "metadata": {
    "colab": {
     "base_uri": "https://localhost:8080/"
    },
    "id": "SxMcgbt07E_t",
    "outputId": "ab50d140-0d0f-4b68-a2ed-0f93e48e943c"
   },
   "outputs": [],
   "source": [
    "import torch\n",
    "print(torch.__version__)\n",
    "print(torch.cuda.is_available())"
   ]
  },
  {
   "cell_type": "markdown",
   "metadata": {
    "id": "mEKHtpAm0z0g"
   },
   "source": [
    "## A Fun Example"
   ]
  },
  {
   "cell_type": "code",
   "execution_count": null,
   "metadata": {
    "colab": {
     "base_uri": "https://localhost:8080/"
    },
    "id": "eVZbM8GD3u3r",
    "outputId": "4a7b2f36-3852-4e1d-b33d-ed2787f9723f"
   },
   "outputs": [],
   "source": [
    "import urllib.request\n",
    "url = 'https://upload.wikimedia.org/wikipedia/commons/4/45/A_small_cup_of_coffee.JPG'\n",
    "fpath = 'coffee.jpg'\n",
    "urllib.request.urlretrieve(url, fpath)"
   ]
  },
  {
   "cell_type": "code",
   "execution_count": null,
   "metadata": {
    "colab": {
     "base_uri": "https://localhost:8080/",
     "height": 286
    },
    "id": "Sp9L3eApthsr",
    "outputId": "e3887e28-207f-4718-aefe-d802d14e7e77"
   },
   "outputs": [],
   "source": [
    "import matplotlib.pyplot as plt\n",
    "from PIL import Image\n",
    "\n",
    "img = Image.open('coffee.jpg')\n",
    "plt.imshow(img)"
   ]
  },
  {
   "cell_type": "code",
   "execution_count": null,
   "metadata": {
    "colab": {
     "base_uri": "https://localhost:8080/"
    },
    "id": "OL6jZ6iVyMrY",
    "outputId": "a88a4ddb-6615-4cd3-868d-264d475f41e1"
   },
   "outputs": [],
   "source": [
    "import torch \n",
    "from torchvision import transforms\n",
    "\n",
    "transform = transforms.Compose([\n",
    "  transforms.Resize(256),\n",
    "  transforms.CenterCrop(224),\n",
    "  transforms.ToTensor(),\n",
    "  transforms.Normalize(\n",
    "      mean=[0.485, 0.456, 0.406],\n",
    "      std=[0.229, 0.224, 0.225])])\n",
    "\n",
    "img_tensor = transform(img)\n",
    "print(type(img_tensor), img_tensor.shape)\n",
    "# out: \n",
    "# <class 'torch.Tensor'> torch.Size([3, 224, 224])"
   ]
  },
  {
   "cell_type": "code",
   "execution_count": null,
   "metadata": {
    "colab": {
     "base_uri": "https://localhost:8080/"
    },
    "id": "xjq9PB-3y46E",
    "outputId": "94ca5880-8d67-4e1b-b17d-670e777c4ba8"
   },
   "outputs": [],
   "source": [
    "batch = torch.unsqueeze(img_tensor, 0)\n",
    "print(batch.shape)\n",
    "# out: torch.Size([1, 3, 224, 224])"
   ]
  },
  {
   "cell_type": "code",
   "execution_count": null,
   "metadata": {
    "colab": {
     "base_uri": "https://localhost:8080/",
     "height": 84,
     "referenced_widgets": [
      "877a850e38ad4d268fe9e03a47d01ebc",
      "6431ef84a9054c91aadc9174deb4b851",
      "bfa8d94bc5714c70b7ba07ae999cbddd",
      "4635a7fd334447c3bc8ff3910f96f9e8",
      "5fe29efd973b4849a5a49ed25fe5ff55",
      "ac9de2c568d64018b8225ed5f2be01f7",
      "2d040d1cc72c48a289e1ba3075855f3b",
      "0f2c1de4767344878069efd903571259"
     ]
    },
    "id": "PLMbage2j9Fz",
    "outputId": "385e7d39-b88f-4e72-ade0-deac3653d6e6"
   },
   "outputs": [],
   "source": [
    "from torchvision import models\n",
    "\n",
    "model = models.alexnet(pretrained=True)"
   ]
  },
  {
   "cell_type": "code",
   "execution_count": null,
   "metadata": {
    "colab": {
     "base_uri": "https://localhost:8080/"
    },
    "id": "pqSDuuDKupjp",
    "outputId": "151dbf2d-b2f1-4b9f-de55-6e5ffb8cbc8f"
   },
   "outputs": [],
   "source": [
    "device = \"cuda\" if torch.cuda.is_available() else \"cpu\"\n",
    "print(device)\n",
    "# out(results will vary): cpu \n",
    "\n",
    "model.eval()\n",
    "model.to(device)\n",
    "y = model(batch.to(device))\n",
    "print(y.shape)\n",
    "# out: torch.Size([1, 1000])"
   ]
  },
  {
   "cell_type": "code",
   "execution_count": null,
   "metadata": {
    "colab": {
     "base_uri": "https://localhost:8080/"
    },
    "id": "t-qrTp0S1Yls",
    "outputId": "58e1f7ec-93ca-4841-a33a-9f7053e5c5d9"
   },
   "outputs": [],
   "source": [
    "y_max, index = torch.max(y,1)\n",
    "print(index, y_max)\n",
    "# out: tensor([967]) tensor([22.3059], grad_fn=<MaxBackward0>)"
   ]
  },
  {
   "cell_type": "code",
   "execution_count": null,
   "metadata": {
    "colab": {
     "base_uri": "https://localhost:8080/"
    },
    "id": "qSVzF9UN-Hys",
    "outputId": "7fda9bb5-7a3d-4eae-e5c5-5d30e1ba10e3"
   },
   "outputs": [],
   "source": [
    "import urllib.request\n",
    "url = \"https://raw.githubusercontent.com/joe-papa/pytorch-book/main/files/imagenet_class_labels.txt\"\n",
    "fpath = 'imagenet_class_labels.txt'\n",
    "urllib.request.urlretrieve(url, fpath)\n",
    "\n",
    "with open('imagenet_class_labels.txt') as f:\n",
    "  classes = [line.strip() for line in f.readlines()]\n",
    "\n",
    "print(classes[967])\n",
    "# out: 967: 'espresso',"
   ]
  },
  {
   "cell_type": "code",
   "execution_count": null,
   "metadata": {
    "colab": {
     "base_uri": "https://localhost:8080/"
    },
    "id": "21pGcfqlvxCN",
    "outputId": "40d5e7c1-57e0-409d-ca75-1b77697ad016"
   },
   "outputs": [],
   "source": [
    "prob = torch.nn.functional.softmax(y, dim=1)[0] * 100\n",
    "print(classes[index[0]], prob[index[0]].item())\n",
    "#967: 'espresso', 87.85208892822266"
   ]
  },
  {
   "cell_type": "code",
   "execution_count": null,
   "metadata": {
    "colab": {
     "base_uri": "https://localhost:8080/"
    },
    "id": "x2yi-E1WySiJ",
    "outputId": "101148d6-808d-4f97-d1f8-9ef6d96c46e3"
   },
   "outputs": [],
   "source": [
    "_, indices = torch.sort(y, descending=True)\n",
    "\n",
    "for idx in indices[0][:5]:\n",
    "  print(classes[idx], prob[idx].item())\n",
    "# out:\n",
    "# 967: 'espresso', 87.85208892822266\n",
    "# 968: 'cup', 7.28359317779541\n",
    "# 504: 'coffee mug', 4.33521032333374\n",
    "# 925: 'consomme', 0.36686763167381287\n",
    "# 960: 'chocolate sauce, chocolate syrup', 0.09037172049283981"
   ]
  },
  {
   "cell_type": "markdown",
   "metadata": {
    "id": "VayqlhW5Y8OO"
   },
   "source": [
    "### Short Version"
   ]
  },
  {
   "cell_type": "code",
   "execution_count": null,
   "metadata": {
    "colab": {
     "base_uri": "https://localhost:8080/"
    },
    "id": "zzNwll8bY98M",
    "outputId": "590f78a4-8b40-4e95-e3b7-0017eb371493"
   },
   "outputs": [],
   "source": [
    "import torch\n",
    "from torchvision import transforms, models\n",
    "\n",
    "transform = transforms.Compose([\n",
    "  transforms.Resize(256),\n",
    "  transforms.CenterCrop(224),\n",
    "  transforms.ToTensor(),\n",
    "  transforms.Normalize(\n",
    "      mean=[0.485, 0.456, 0.406],\n",
    "      std=[0.229, 0.224, 0.225])])\n",
    "\n",
    "img_tensor = transform(img)\n",
    "batch = torch.unsqueeze(img_tensor, 0)\n",
    "model = models.alexnet(pretrained=True)\n",
    "\n",
    "device = \"cuda\" if torch.cuda.is_available() else \"cpu\"\n",
    "model.eval()\n",
    "model.to(device)\n",
    "y = model(batch.to(device))\n",
    "\n",
    "prob = torch.nn.functional.softmax(y, dim=1)[0] * 100\n",
    "_, indices = torch.sort(y, descending=True)\n",
    "for idx in indices[0][:5]:\n",
    "  print(classes[idx], prob[idx].item())"
   ]
  }
 ],
 "metadata": {
  "colab": {
   "collapsed_sections": [],
   "name": "01_Getting_Started.ipynb",
   "provenance": []
  },
  "kernelspec": {
   "display_name": "Python 3",
   "language": "python",
   "name": "python3"
  },
  "language_info": {
   "codemirror_mode": {
    "name": "ipython",
    "version": 3
   },
   "file_extension": ".py",
   "mimetype": "text/x-python",
   "name": "python",
   "nbconvert_exporter": "python",
   "pygments_lexer": "ipython3",
   "version": "3.8.3"
  },
  "widgets": {
   "application/vnd.jupyter.widget-state+json": {
    "0f2c1de4767344878069efd903571259": {
     "model_module": "@jupyter-widgets/base",
     "model_name": "LayoutModel",
     "state": {
      "_model_module": "@jupyter-widgets/base",
      "_model_module_version": "1.2.0",
      "_model_name": "LayoutModel",
      "_view_count": null,
      "_view_module": "@jupyter-widgets/base",
      "_view_module_version": "1.2.0",
      "_view_name": "LayoutView",
      "align_content": null,
      "align_items": null,
      "align_self": null,
      "border": null,
      "bottom": null,
      "display": null,
      "flex": null,
      "flex_flow": null,
      "grid_area": null,
      "grid_auto_columns": null,
      "grid_auto_flow": null,
      "grid_auto_rows": null,
      "grid_column": null,
      "grid_gap": null,
      "grid_row": null,
      "grid_template_areas": null,
      "grid_template_columns": null,
      "grid_template_rows": null,
      "height": null,
      "justify_content": null,
      "justify_items": null,
      "left": null,
      "margin": null,
      "max_height": null,
      "max_width": null,
      "min_height": null,
      "min_width": null,
      "object_fit": null,
      "object_position": null,
      "order": null,
      "overflow": null,
      "overflow_x": null,
      "overflow_y": null,
      "padding": null,
      "right": null,
      "top": null,
      "visibility": null,
      "width": null
     }
    },
    "2d040d1cc72c48a289e1ba3075855f3b": {
     "model_module": "@jupyter-widgets/controls",
     "model_name": "DescriptionStyleModel",
     "state": {
      "_model_module": "@jupyter-widgets/controls",
      "_model_module_version": "1.5.0",
      "_model_name": "DescriptionStyleModel",
      "_view_count": null,
      "_view_module": "@jupyter-widgets/base",
      "_view_module_version": "1.2.0",
      "_view_name": "StyleView",
      "description_width": ""
     }
    },
    "4635a7fd334447c3bc8ff3910f96f9e8": {
     "model_module": "@jupyter-widgets/controls",
     "model_name": "HTMLModel",
     "state": {
      "_dom_classes": [],
      "_model_module": "@jupyter-widgets/controls",
      "_model_module_version": "1.5.0",
      "_model_name": "HTMLModel",
      "_view_count": null,
      "_view_module": "@jupyter-widgets/controls",
      "_view_module_version": "1.5.0",
      "_view_name": "HTMLView",
      "description": "",
      "description_tooltip": null,
      "layout": "IPY_MODEL_0f2c1de4767344878069efd903571259",
      "placeholder": "​",
      "style": "IPY_MODEL_2d040d1cc72c48a289e1ba3075855f3b",
      "value": " 233M/233M [00:01&lt;00:00, 148MB/s]"
     }
    },
    "5fe29efd973b4849a5a49ed25fe5ff55": {
     "model_module": "@jupyter-widgets/controls",
     "model_name": "ProgressStyleModel",
     "state": {
      "_model_module": "@jupyter-widgets/controls",
      "_model_module_version": "1.5.0",
      "_model_name": "ProgressStyleModel",
      "_view_count": null,
      "_view_module": "@jupyter-widgets/base",
      "_view_module_version": "1.2.0",
      "_view_name": "StyleView",
      "bar_color": null,
      "description_width": "initial"
     }
    },
    "6431ef84a9054c91aadc9174deb4b851": {
     "model_module": "@jupyter-widgets/base",
     "model_name": "LayoutModel",
     "state": {
      "_model_module": "@jupyter-widgets/base",
      "_model_module_version": "1.2.0",
      "_model_name": "LayoutModel",
      "_view_count": null,
      "_view_module": "@jupyter-widgets/base",
      "_view_module_version": "1.2.0",
      "_view_name": "LayoutView",
      "align_content": null,
      "align_items": null,
      "align_self": null,
      "border": null,
      "bottom": null,
      "display": null,
      "flex": null,
      "flex_flow": null,
      "grid_area": null,
      "grid_auto_columns": null,
      "grid_auto_flow": null,
      "grid_auto_rows": null,
      "grid_column": null,
      "grid_gap": null,
      "grid_row": null,
      "grid_template_areas": null,
      "grid_template_columns": null,
      "grid_template_rows": null,
      "height": null,
      "justify_content": null,
      "justify_items": null,
      "left": null,
      "margin": null,
      "max_height": null,
      "max_width": null,
      "min_height": null,
      "min_width": null,
      "object_fit": null,
      "object_position": null,
      "order": null,
      "overflow": null,
      "overflow_x": null,
      "overflow_y": null,
      "padding": null,
      "right": null,
      "top": null,
      "visibility": null,
      "width": null
     }
    },
    "877a850e38ad4d268fe9e03a47d01ebc": {
     "model_module": "@jupyter-widgets/controls",
     "model_name": "HBoxModel",
     "state": {
      "_dom_classes": [],
      "_model_module": "@jupyter-widgets/controls",
      "_model_module_version": "1.5.0",
      "_model_name": "HBoxModel",
      "_view_count": null,
      "_view_module": "@jupyter-widgets/controls",
      "_view_module_version": "1.5.0",
      "_view_name": "HBoxView",
      "box_style": "",
      "children": [
       "IPY_MODEL_bfa8d94bc5714c70b7ba07ae999cbddd",
       "IPY_MODEL_4635a7fd334447c3bc8ff3910f96f9e8"
      ],
      "layout": "IPY_MODEL_6431ef84a9054c91aadc9174deb4b851"
     }
    },
    "ac9de2c568d64018b8225ed5f2be01f7": {
     "model_module": "@jupyter-widgets/base",
     "model_name": "LayoutModel",
     "state": {
      "_model_module": "@jupyter-widgets/base",
      "_model_module_version": "1.2.0",
      "_model_name": "LayoutModel",
      "_view_count": null,
      "_view_module": "@jupyter-widgets/base",
      "_view_module_version": "1.2.0",
      "_view_name": "LayoutView",
      "align_content": null,
      "align_items": null,
      "align_self": null,
      "border": null,
      "bottom": null,
      "display": null,
      "flex": null,
      "flex_flow": null,
      "grid_area": null,
      "grid_auto_columns": null,
      "grid_auto_flow": null,
      "grid_auto_rows": null,
      "grid_column": null,
      "grid_gap": null,
      "grid_row": null,
      "grid_template_areas": null,
      "grid_template_columns": null,
      "grid_template_rows": null,
      "height": null,
      "justify_content": null,
      "justify_items": null,
      "left": null,
      "margin": null,
      "max_height": null,
      "max_width": null,
      "min_height": null,
      "min_width": null,
      "object_fit": null,
      "object_position": null,
      "order": null,
      "overflow": null,
      "overflow_x": null,
      "overflow_y": null,
      "padding": null,
      "right": null,
      "top": null,
      "visibility": null,
      "width": null
     }
    },
    "bfa8d94bc5714c70b7ba07ae999cbddd": {
     "model_module": "@jupyter-widgets/controls",
     "model_name": "FloatProgressModel",
     "state": {
      "_dom_classes": [],
      "_model_module": "@jupyter-widgets/controls",
      "_model_module_version": "1.5.0",
      "_model_name": "FloatProgressModel",
      "_view_count": null,
      "_view_module": "@jupyter-widgets/controls",
      "_view_module_version": "1.5.0",
      "_view_name": "ProgressView",
      "bar_style": "success",
      "description": "100%",
      "description_tooltip": null,
      "layout": "IPY_MODEL_ac9de2c568d64018b8225ed5f2be01f7",
      "max": 244418560,
      "min": 0,
      "orientation": "horizontal",
      "style": "IPY_MODEL_5fe29efd973b4849a5a49ed25fe5ff55",
      "value": 244418560
     }
    }
   }
  }
 },
 "nbformat": 4,
 "nbformat_minor": 1
}
